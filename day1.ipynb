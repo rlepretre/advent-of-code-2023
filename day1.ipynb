{
 "cells": [
  {
   "cell_type": "markdown",
   "metadata": {},
   "source": [
    "# [Day 1](https://adventofcode.com/2023/day/1)"
   ]
  },
  {
   "cell_type": "code",
   "execution_count": 2,
   "metadata": {},
   "outputs": [
    {
     "data": {
      "text/plain": [
       "54697"
      ]
     },
     "execution_count": 2,
     "metadata": {},
     "output_type": "execute_result"
    }
   ],
   "source": [
    "import re\n",
    "with open(\"./inputs/day1.txt\",\"r\") as f:\n",
    "    calibration = 0\n",
    "    for l in f:\n",
    "        all_line_numbers = []\n",
    "        for c in l:\n",
    "            if c.isnumeric():\n",
    "                all_line_numbers.append(c)\n",
    "        line_calibration = all_line_numbers[0] + all_line_numbers[-1]\n",
    "        calibration += int(line_calibration)\n",
    "calibration"
   ]
  }
 ],
 "metadata": {
  "kernelspec": {
   "display_name": "Python 3",
   "language": "python",
   "name": "python3"
  },
  "language_info": {
   "codemirror_mode": {
    "name": "ipython",
    "version": 3
   },
   "file_extension": ".py",
   "mimetype": "text/x-python",
   "name": "python",
   "nbconvert_exporter": "python",
   "pygments_lexer": "ipython3",
   "version": "3.12.1"
  }
 },
 "nbformat": 4,
 "nbformat_minor": 2
}
