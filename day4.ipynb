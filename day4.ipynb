{
 "cells": [
  {
   "cell_type": "markdown",
   "metadata": {},
   "source": [
    "# [Day 4](https://adventofcode.com/2023/day/4)"
   ]
  },
  {
   "cell_type": "markdown",
   "metadata": {},
   "source": [
    "## Part 1"
   ]
  },
  {
   "cell_type": "markdown",
   "metadata": {},
   "source": [
    "This one was fairly easy overall. It is just a matter of splitting each line into python lists and then compare then with `set().intersection()` in order to get how many numbers are present in both lists. "
   ]
  },
  {
   "cell_type": "code",
   "execution_count": 61,
   "metadata": {},
   "outputs": [
    {
     "data": {
      "text/plain": [
       "33950"
      ]
     },
     "execution_count": 61,
     "metadata": {},
     "output_type": "execute_result"
    }
   ],
   "source": [
    "total_points = 0\n",
    "with open(\"./inputs/day4.txt\",\"r\") as f:\n",
    "    for l in f:\n",
    "        winning_numbers = l.split(\":\")[1].split(\"|\")[0].strip(\" \").split(\" \")\n",
    "        \n",
    "        my_numbers = l.split(\":\")[1].split(\"|\")[1].strip(\" \\n\").split(\" \")\n",
    "        my_numbers = [ x for x in my_numbers if x.isdigit() ]\n",
    "\n",
    "        total_matches = len(set(winning_numbers).intersection(set(my_numbers)))\n",
    "\n",
    "        if total_matches > 0:\n",
    "            total_points += 2**(total_matches - 1)\n",
    "total_points"
   ]
  },
  {
   "cell_type": "markdown",
   "metadata": {},
   "source": [
    "## Part 2"
   ]
  },
  {
   "cell_type": "code",
   "execution_count": 68,
   "metadata": {},
   "outputs": [],
   "source": [
    "cards = []\n",
    "with open(\"./inputs/day4.txt\",\"r\") as f:\n",
    "    for idx, l in enumerate(f):\n",
    "        winning_numbers = l.split(\":\")[1].split(\"|\")[0].strip(\" \").split(\" \")\n",
    "        \n",
    "        my_numbers = l.split(\":\")[1].split(\"|\")[1].strip(\" \\n\").split(\" \")\n",
    "        my_numbers = [ x for x in my_numbers if x.isdigit() ]\n",
    "\n",
    "        total_matches = len(set(winning_numbers).intersection(set(my_numbers)))\n",
    "\n",
    "        cards.append({\"matches\": total_matches, \"multiplier\": 1})"
   ]
  },
  {
   "cell_type": "code",
   "execution_count": 69,
   "metadata": {},
   "outputs": [
    {
     "data": {
      "text/plain": [
       "14814534"
      ]
     },
     "execution_count": 69,
     "metadata": {},
     "output_type": "execute_result"
    }
   ],
   "source": [
    "card_amount = 0\n",
    "for i in range(len(cards)):\n",
    "    for k in range(cards[i][\"matches\"]):\n",
    "        cards[i+k+1][\"multiplier\"] += cards[i][\"multiplier\"] \n",
    "    card_amount += cards[i][\"multiplier\"]\n",
    "card_amount"
   ]
  }
 ],
 "metadata": {
  "kernelspec": {
   "display_name": "Python 3",
   "language": "python",
   "name": "python3"
  },
  "language_info": {
   "codemirror_mode": {
    "name": "ipython",
    "version": 3
   },
   "file_extension": ".py",
   "mimetype": "text/x-python",
   "name": "python",
   "nbconvert_exporter": "python",
   "pygments_lexer": "ipython3",
   "version": "3.12.1"
  }
 },
 "nbformat": 4,
 "nbformat_minor": 2
}
