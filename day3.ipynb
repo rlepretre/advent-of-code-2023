{
 "cells": [
  {
   "cell_type": "markdown",
   "metadata": {},
   "source": [
    "# [Day 3](https://adventofcode.com/2023/day/3)"
   ]
  },
  {
   "cell_type": "markdown",
   "metadata": {},
   "source": [
    "Let's start by reading the text file and put the schematic into a numpy array. This will allow us to function with coordinates and help us down the line."
   ]
  },
  {
   "cell_type": "code",
   "execution_count": 2,
   "metadata": {},
   "outputs": [],
   "source": [
    "import numpy as np \n",
    "\n",
    "with open(\"inputs/day3.txt\",\"r\") as f:\n",
    "    \n",
    "    \n",
    "    schematic = np.empty((140, 140), dtype=str)\n",
    "    for i, l in enumerate(f): \n",
    "        for j, c in enumerate(l.rstrip(\"\\n\")): \n",
    "            schematic[i][j] = c"
   ]
  },
  {
   "cell_type": "markdown",
   "metadata": {},
   "source": [
    "Now, I will iterate over the table in order to find numbers and the coordinate of each digit. This will be put in the `coords_by_number` list."
   ]
  },
  {
   "cell_type": "code",
   "execution_count": 3,
   "metadata": {},
   "outputs": [],
   "source": [
    "coords_by_number = []\n",
    "\n",
    "for i in range(140):\n",
    "    j = 0\n",
    "    while j < 140:      \n",
    "        coordinates = []\n",
    "        char = schematic[i][j]\n",
    "        number = \"\"\n",
    "        while(char.isnumeric()):\n",
    "            number += char\n",
    "            coordinates.append([i, j])\n",
    "            j += 1\n",
    "            if j < 140:\n",
    "                char = schematic[i][j]\n",
    "            else:\n",
    "                break\n",
    "        if number != '':\n",
    "            coords_by_number.append((number,coordinates))\n",
    "        j += 1"
   ]
  },
  {
   "cell_type": "markdown",
   "metadata": {},
   "source": [
    "Let's take a look at `coords_by_number`'s first 5 elements:"
   ]
  },
  {
   "cell_type": "code",
   "execution_count": 4,
   "metadata": {},
   "outputs": [
    {
     "data": {
      "text/plain": [
       "[('497', [[0, 7], [0, 8], [0, 9]]),\n",
       " ('858', [[0, 37], [0, 38], [0, 39]]),\n",
       " ('923', [[0, 43], [0, 44], [0, 45]]),\n",
       " ('128', [[0, 49], [0, 50], [0, 51]]),\n",
       " ('227', [[0, 70], [0, 71], [0, 72]])]"
      ]
     },
     "execution_count": 4,
     "metadata": {},
     "output_type": "execute_result"
    }
   ],
   "source": [
    "coords_by_number[:5]"
   ]
  },
  {
   "cell_type": "markdown",
   "metadata": {},
   "source": [
    "Using `np.ix_(rows, cols)`, we can extract a submatrix from the schematic. The idea is to extract the submatrix around a number and check if it contains a symbol in which case we need to include that number to the sum. The submatrix only contains the number and every adjacent coordinate. \n",
    "\n",
    "For instance : \n",
    "\n",
    "    .....\n",
    "    .453.\n",
    "    ....*\n"
   ]
  },
  {
   "cell_type": "code",
   "execution_count": 5,
   "metadata": {},
   "outputs": [],
   "source": [
    "def contains_symbol(sub_matrix):\n",
    "    sub_matrix = sub_matrix.flatten()\n",
    "    for elem in sub_matrix:\n",
    "        if elem.isalnum() or elem == \".\":\n",
    "            continue\n",
    "        else:\n",
    "            return True\n",
    "    return False"
   ]
  },
  {
   "cell_type": "code",
   "execution_count": 6,
   "metadata": {},
   "outputs": [
    {
     "data": {
      "text/plain": [
       "540131"
      ]
     },
     "execution_count": 6,
     "metadata": {},
     "output_type": "execute_result"
    }
   ],
   "source": [
    "sum = 0\n",
    "for number, coords in coords_by_number:\n",
    "    row = coords[0][0]\n",
    "    cols = [coord[1] for coord in coords]\n",
    "\n",
    "    if row == 0:                # submatrix need to be smaller for edge cases \n",
    "        rows = [row, row + 1]\n",
    "    elif row == 139:            # submatrix need to be smaller for edge cases\n",
    "        rows = [row - 1, row]\n",
    "    else:\n",
    "        rows = [row - 1, row, row + 1]\n",
    "\n",
    "    if cols[0] == 0:            # submatrix need to be smaller for edge cases\n",
    "        cols = [*cols, cols[-1]+1]\n",
    "    elif cols[-1] == 139:       # submatrix need to be smaller for edge cases\n",
    "        cols = [cols[0]-1, *cols]\n",
    "    else:\n",
    "        cols = [cols[0]-1, *cols, cols[-1]+1]\n",
    "\n",
    "    ixgrid = np.ix_(rows, cols)\n",
    "\n",
    "    if contains_symbol(schematic[ixgrid]):\n",
    "        sum += int(number)\n",
    "sum"
   ]
  }
 ],
 "metadata": {
  "kernelspec": {
   "display_name": "Python 3",
   "language": "python",
   "name": "python3"
  },
  "language_info": {
   "codemirror_mode": {
    "name": "ipython",
    "version": 3
   },
   "file_extension": ".py",
   "mimetype": "text/x-python",
   "name": "python",
   "nbconvert_exporter": "python",
   "pygments_lexer": "ipython3",
   "version": "3.12.1"
  }
 },
 "nbformat": 4,
 "nbformat_minor": 2
}
