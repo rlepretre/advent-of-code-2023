{
 "cells": [
  {
   "cell_type": "markdown",
   "metadata": {},
   "source": [
    "# [Day 2](https://adventofcode.com/2023/day/2)"
   ]
  },
  {
   "cell_type": "markdown",
   "metadata": {},
   "source": [
    "## Part 1"
   ]
  },
  {
   "cell_type": "code",
   "execution_count": 83,
   "metadata": {},
   "outputs": [],
   "source": [
    "MAX_RED = 12\n",
    "MAX_GREEN = 13\n",
    "MAX_BLUE = 14"
   ]
  },
  {
   "cell_type": "code",
   "execution_count": 84,
   "metadata": {},
   "outputs": [],
   "source": [
    "import re\n",
    "\n",
    "def get_game_id(line):\n",
    "    game_id = re.search(r\"Game (\\d\\d*)\", line)\n",
    "    if game_id:\n",
    "        return int(game_id.group(1))\n",
    "\n",
    "def get_max_cube_amount(line, color):\n",
    "    cube_amount = re.findall(r\"(\\d\\d*) \" + color, line)\n",
    "    if cube_amount:\n",
    "        cube_amount_int = [eval(i) for i in cube_amount]\n",
    "        return max(cube_amount_int)"
   ]
  },
  {
   "cell_type": "code",
   "execution_count": 86,
   "metadata": {},
   "outputs": [
    {
     "name": "stdout",
     "output_type": "stream",
     "text": [
      "Game 1 is possible. R:9, G:7, B:13.\n",
      "Game 4 is possible. R:1, G:6, B:9.\n",
      "Game 7 is possible. R:2, G:8, B:3.\n",
      "Game 13 is possible. R:3, G:4, B:14.\n",
      "Game 14 is possible. R:12, G:3, B:5.\n",
      "Game 15 is possible. R:5, G:11, B:4.\n",
      "Game 16 is possible. R:12, G:12, B:12.\n",
      "Game 19 is possible. R:5, G:7, B:2.\n",
      "Game 20 is possible. R:1, G:9, B:14.\n",
      "Game 21 is possible. R:12, G:4, B:6.\n",
      "Game 22 is possible. R:3, G:12, B:5.\n",
      "Game 25 is possible. R:12, G:11, B:3.\n",
      "Game 26 is possible. R:9, G:11, B:7.\n",
      "Game 28 is possible. R:7, G:11, B:5.\n",
      "Game 30 is possible. R:10, G:13, B:6.\n",
      "Game 31 is possible. R:5, G:13, B:14.\n",
      "Game 34 is possible. R:11, G:1, B:10.\n",
      "Game 35 is possible. R:8, G:2, B:10.\n",
      "Game 36 is possible. R:7, G:10, B:13.\n",
      "Game 37 is possible. R:7, G:2, B:1.\n",
      "Game 39 is possible. R:12, G:2, B:9.\n",
      "Game 41 is possible. R:5, G:3, B:9.\n",
      "Game 46 is possible. R:7, G:3, B:8.\n",
      "Game 47 is possible. R:8, G:5, B:6.\n",
      "Game 48 is possible. R:3, G:8, B:11.\n",
      "Game 49 is possible. R:6, G:10, B:10.\n",
      "Game 50 is possible. R:7, G:8, B:1.\n",
      "Game 51 is possible. R:12, G:3, B:10.\n",
      "Game 53 is possible. R:12, G:1, B:12.\n",
      "Game 54 is possible. R:8, G:2, B:9.\n",
      "Game 56 is possible. R:6, G:9, B:13.\n",
      "Game 58 is possible. R:1, G:3, B:1.\n",
      "Game 59 is possible. R:10, G:5, B:2.\n",
      "Game 60 is possible. R:5, G:13, B:1.\n",
      "Game 63 is possible. R:11, G:2, B:5.\n",
      "Game 64 is possible. R:3, G:7, B:12.\n",
      "Game 66 is possible. R:9, G:3, B:7.\n",
      "Game 71 is possible. R:11, G:3, B:3.\n",
      "Game 75 is possible. R:10, G:4, B:3.\n",
      "Game 76 is possible. R:6, G:12, B:9.\n",
      "Game 77 is possible. R:6, G:11, B:7.\n",
      "Game 84 is possible. R:5, G:6, B:1.\n",
      "Game 87 is possible. R:10, G:3, B:3.\n",
      "Game 90 is possible. R:8, G:7, B:1.\n",
      "Game 91 is possible. R:9, G:3, B:12.\n",
      "Game 95 is possible. R:11, G:13, B:6.\n",
      "Game 96 is possible. R:2, G:5, B:14.\n",
      "Game 98 is possible. R:4, G:3, B:12.\n"
     ]
    },
    {
     "data": {
      "text/plain": [
       "2278"
      ]
     },
     "execution_count": 86,
     "metadata": {},
     "output_type": "execute_result"
    }
   ],
   "source": [
    "\n",
    "with open(\"./inputs/day2.txt\",\"r\") as f:\n",
    "    possible_games = 0\n",
    "    for l in f:\n",
    "        id = get_game_id(l)\n",
    "        max_reds_in_game = get_max_cube_amount(l, \"red\")\n",
    "        max_greens_in_game = get_max_cube_amount(l, \"green\")\n",
    "        max_blues_in_game = get_max_cube_amount(l, \"blue\")\n",
    "\n",
    "        if max_reds_in_game <= MAX_RED and max_greens_in_game <= MAX_GREEN and max_blues_in_game <= MAX_BLUE:\n",
    "            # print(\"Game {} is possible. R:{}, G:{}, B:{}.\".format(id,max_reds_in_game, max_greens_in_game, max_blues_in_game))\n",
    "            possible_games += id\n",
    "possible_games"
   ]
  },
  {
   "cell_type": "markdown",
   "metadata": {},
   "source": [
    "## Part 2"
   ]
  },
  {
   "cell_type": "code",
   "execution_count": 88,
   "metadata": {},
   "outputs": [
    {
     "data": {
      "text/plain": [
       "67953"
      ]
     },
     "execution_count": 88,
     "metadata": {},
     "output_type": "execute_result"
    }
   ],
   "source": [
    "with open(\"./inputs/day2.txt\",\"r\") as f:\n",
    "    power = 0\n",
    "    for l in f:\n",
    "        max_reds_in_game = get_max_cube_amount(l, \"red\")\n",
    "        max_greens_in_game = get_max_cube_amount(l, \"green\")\n",
    "        max_blues_in_game = get_max_cube_amount(l, \"blue\")\n",
    "        power += max_reds_in_game * max_greens_in_game * max_blues_in_game\n",
    "power"
   ]
  }
 ],
 "metadata": {
  "kernelspec": {
   "display_name": "Python 3",
   "language": "python",
   "name": "python3"
  },
  "language_info": {
   "codemirror_mode": {
    "name": "ipython",
    "version": 3
   },
   "file_extension": ".py",
   "mimetype": "text/x-python",
   "name": "python",
   "nbconvert_exporter": "python",
   "pygments_lexer": "ipython3",
   "version": "3.12.1"
  }
 },
 "nbformat": 4,
 "nbformat_minor": 2
}
